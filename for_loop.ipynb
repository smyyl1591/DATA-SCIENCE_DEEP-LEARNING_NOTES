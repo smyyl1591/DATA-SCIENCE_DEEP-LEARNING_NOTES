{
  "nbformat": 4,
  "nbformat_minor": 0,
  "metadata": {
    "colab": {
      "provenance": [],
      "include_colab_link": true
    },
    "kernelspec": {
      "name": "python3",
      "display_name": "Python 3"
    },
    "language_info": {
      "name": "python"
    }
  },
  "cells": [
    {
      "cell_type": "markdown",
      "metadata": {
        "id": "view-in-github",
        "colab_type": "text"
      },
      "source": [
        "<a href=\"https://colab.research.google.com/github/smyyl1591/DATA-SCIENCE_DEEP-LEARNING_NOTES/blob/main/for_loop.ipynb\" target=\"_parent\"><img src=\"https://colab.research.google.com/assets/colab-badge.svg\" alt=\"Open In Colab\"/></a>"
      ]
    },
    {
      "cell_type": "markdown",
      "source": [
        "# 內容\n",
        "* for迴圈進度條 (tqdm / trange)\n",
        "* 同時多個變數的for迴圈 (enumerate / zip)\n",
        "* 跳出巢狀迴圈 (for else)"
      ],
      "metadata": {
        "id": "3W_r5GIAIqZy"
      }
    },
    {
      "cell_type": "markdown",
      "source": [
        "## for迴圈-進度條\n",
        "跑for迴圈時不知道還有多久才會結束，好煩惱怎麼辦？\n",
        "###  tqdm / trange\n"
      ],
      "metadata": {
        "id": "Bn6j-JZOIuG4"
      }
    },
    {
      "cell_type": "code",
      "source": [
        "from time import sleep\n",
        "from tqdm import tqdm, trange\n",
        "\n",
        "# tqdm\n",
        "for i in tqdm(['A', 'B', 'C', 'D']):\n",
        "    sleep(0.5)\n",
        "    # print(i)"
      ],
      "metadata": {
        "colab": {
          "base_uri": "https://localhost:8080/"
        },
        "id": "OXDCNCeGIlM2",
        "outputId": "3dcf3826-07f8-450d-9509-6d0c8f2854b4"
      },
      "execution_count": null,
      "outputs": [
        {
          "output_type": "stream",
          "name": "stderr",
          "text": [
            "100%|██████████| 4/4 [00:02<00:00,  1.99it/s]\n"
          ]
        }
      ]
    },
    {
      "cell_type": "code",
      "source": [
        "# trange = tqdm + range\n",
        "for i in trange(300):\n",
        "    sleep(0.01)"
      ],
      "metadata": {
        "colab": {
          "base_uri": "https://localhost:8080/"
        },
        "id": "9gE5I7pcIl4J",
        "outputId": "37ed4dee-71dd-4ce0-96d8-ab83396626df"
      },
      "execution_count": null,
      "outputs": [
        {
          "output_type": "stream",
          "name": "stderr",
          "text": [
            "100%|██████████| 300/300 [00:03<00:00, 97.57it/s]\n"
          ]
        }
      ]
    },
    {
      "cell_type": "markdown",
      "source": [
        "### 手寫進度條\n",
        "使用print()時，end預設為'\\n'，自動換行\n",
        "\n",
        "將自動換行取消，並在前面加上'\\r'，使光標回到行首"
      ],
      "metadata": {
        "id": "qLzRwygTI-V8"
      }
    },
    {
      "cell_type": "code",
      "source": [
        "for i in range(100):\n",
        "    sleep(0.05)\n",
        "    print('\\r', i, end='')\n",
        "    # print(i, end='')"
      ],
      "metadata": {
        "colab": {
          "base_uri": "https://localhost:8080/"
        },
        "id": "JQ2-EiNdIl6u",
        "outputId": "ecd35ebb-8a88-4c5c-8cd9-a86edeedcd8b"
      },
      "execution_count": null,
      "outputs": [
        {
          "output_type": "stream",
          "name": "stdout",
          "text": [
            " 99"
          ]
        }
      ]
    },
    {
      "cell_type": "code",
      "source": [
        "temp = 0\n",
        "total = 500\n",
        "\n",
        "for n in range(total):\n",
        "    temp += 1\n",
        "    print('\\r' + '[Progress]:[%s%s]%.2f%%;' % (\n",
        "    '█' * int(temp*20/total), '  ' * (20-int(temp*20/total)),\n",
        "    float(temp/total*100)), end='')\n",
        "    sleep(0.01)"
      ],
      "metadata": {
        "colab": {
          "base_uri": "https://localhost:8080/"
        },
        "id": "g4sVi1GNIl9T",
        "outputId": "320f2c80-b7f0-4a0b-916e-e3c04b8291a0"
      },
      "execution_count": null,
      "outputs": [
        {
          "output_type": "stream",
          "name": "stdout",
          "text": [
            "[Progress]:[████████████████████]100.00%;"
          ]
        }
      ]
    },
    {
      "cell_type": "markdown",
      "source": [
        "## 多變數的for迴圈 (enumerate, zip)"
      ],
      "metadata": {
        "id": "9FqUHfj3JIgh"
      }
    },
    {
      "cell_type": "code",
      "source": [
        "list_ = ['a', 'b', 'c', 'd', 'e']\n",
        "for i in range(len(list_)):\n",
        "    print(i, list_[i])"
      ],
      "metadata": {
        "colab": {
          "base_uri": "https://localhost:8080/"
        },
        "id": "iBvS-VBgIl__",
        "outputId": "1e130687-f8d0-4189-9096-668a7630d1f4"
      },
      "execution_count": null,
      "outputs": [
        {
          "output_type": "stream",
          "name": "stdout",
          "text": [
            "0 a\n",
            "1 b\n",
            "2 c\n",
            "3 d\n",
            "4 e\n"
          ]
        }
      ]
    },
    {
      "cell_type": "code",
      "source": [
        "# enumerate\n",
        "list_ = ['a', 'b', 'c', 'd', 'e']\n",
        "for idx, value in enumerate(list_):\n",
        "    print(idx, value)"
      ],
      "metadata": {
        "colab": {
          "base_uri": "https://localhost:8080/"
        },
        "id": "a0lcm8vUImCb",
        "outputId": "e5b7d435-bef3-4c00-f2c6-cd1e7cbf81d4"
      },
      "execution_count": null,
      "outputs": [
        {
          "output_type": "stream",
          "name": "stdout",
          "text": [
            "0 a\n",
            "1 b\n",
            "2 c\n",
            "3 d\n",
            "4 e\n"
          ]
        }
      ]
    },
    {
      "cell_type": "code",
      "source": [
        "# zip\n",
        "list_i = ['a', 'b', 'c', 'd', 'e']\n",
        "list_j = ['A', 'B', 'C', 'D', 'E']\n",
        "list(zip(list_i, list_j))"
      ],
      "metadata": {
        "colab": {
          "base_uri": "https://localhost:8080/"
        },
        "id": "0xroyuCpJQaa",
        "outputId": "93935005-d28a-49f6-8552-4816ee6a5cf2"
      },
      "execution_count": null,
      "outputs": [
        {
          "output_type": "execute_result",
          "data": {
            "text/plain": [
              "[('a', 'A'), ('b', 'B'), ('c', 'C'), ('d', 'D'), ('e', 'E')]"
            ]
          },
          "metadata": {},
          "execution_count": 16
        }
      ]
    },
    {
      "cell_type": "code",
      "source": [
        "# zip\n",
        "list_i = ['a', 'b', 'c', 'd', 'e', 'f', 'g']\n",
        "list_j = ['A', 'B', 'C', 'D', 'E', 'F', 'G']\n",
        "list_k = ['1', '2', '3', '4']\n",
        "for i, j in zip(list_i, list_j):\n",
        "    print(i, j)\n",
        "\n",
        "# 注意!!!元素個數與最短的列表一致\n",
        "for i, j, k in zip(list_i, list_j, list_k):\n",
        "    print(i, j, k)"
      ],
      "metadata": {
        "colab": {
          "base_uri": "https://localhost:8080/"
        },
        "id": "cJ1yYtvwJQxl",
        "outputId": "02e174ec-7483-4c53-d54c-a1d6bef17ee7"
      },
      "execution_count": null,
      "outputs": [
        {
          "output_type": "stream",
          "name": "stdout",
          "text": [
            "a A\n",
            "b B\n",
            "c C\n",
            "d D\n",
            "e E\n",
            "f F\n",
            "g G\n",
            "a A 1\n",
            "b B 2\n",
            "c C 3\n",
            "d D 4\n"
          ]
        }
      ]
    },
    {
      "cell_type": "markdown",
      "source": [
        "## 跳出巢狀迴圈"
      ],
      "metadata": {
        "id": "pHfNWQN3JU6J"
      }
    },
    {
      "cell_type": "markdown",
      "source": [
        "### 迴圈控制\n",
        "break：強制跳出 ❮整個❯ 迴圈\n",
        "\n",
        "continue：強制跳出 ❮本次❯ 迴圈，繼續進入下一圈\n",
        "\n",
        "pass：不做任何事情，所有的程式都將繼續"
      ],
      "metadata": {
        "id": "1Hb6pO54JU8w"
      }
    },
    {
      "cell_type": "code",
      "source": [
        "count=0\n",
        "for string in 'content':\n",
        "    count+=1\n",
        "    if string == 't':\n",
        "        # break\n",
        "        continue\n",
        "        # pass\n",
        "    print(string)\n",
        "\n",
        "print('\\n迴圈結束')\n",
        "print('迴圈執行了 %d 次' %count)"
      ],
      "metadata": {
        "colab": {
          "base_uri": "https://localhost:8080/"
        },
        "id": "fOAkbWvMJQz3",
        "outputId": "96fd18da-5663-46b8-f005-f66dd360ec70"
      },
      "execution_count": null,
      "outputs": [
        {
          "output_type": "stream",
          "name": "stdout",
          "text": [
            "c\n",
            "o\n",
            "n\n",
            "e\n",
            "n\n",
            "\n",
            "迴圈結束\n",
            "迴圈執行了 7 次\n"
          ]
        }
      ]
    },
    {
      "cell_type": "markdown",
      "source": [
        "### 跳出巢狀迴圈\n",
        "\n",
        "* flag\n",
        "* for else\n",
        "* function"
      ],
      "metadata": {
        "id": "e2sn9ct2Jhn2"
      }
    },
    {
      "cell_type": "markdown",
      "source": [
        "範例：寫一個三層迴圈，每個變數從0-2，當三層變數同時等於1時,\n",
        " 跳回最外層迴圈\n"
      ],
      "metadata": {
        "id": "44pZujtKJsj-"
      }
    },
    {
      "cell_type": "code",
      "source": [
        "# flag\n",
        "flag = False\n",
        "\n",
        "for i in range(3):\n",
        "    for j in range(3):\n",
        "        for k in range(3):\n",
        "            if i == j == k == 1:\n",
        "                flag = True\n",
        "                print('break')\n",
        "                break\n",
        "            print(i, j, k)\n",
        "        if flag:\n",
        "            break\n",
        "    flag = False"
      ],
      "metadata": {
        "colab": {
          "base_uri": "https://localhost:8080/"
        },
        "id": "CANoZzMsJccN",
        "outputId": "a74034a8-76e9-4f74-d8f7-c70b48effab6"
      },
      "execution_count": null,
      "outputs": [
        {
          "output_type": "stream",
          "name": "stdout",
          "text": [
            "0 0 0\n",
            "0 0 1\n",
            "0 0 2\n",
            "0 1 0\n",
            "0 1 1\n",
            "0 1 2\n",
            "0 2 0\n",
            "0 2 1\n",
            "0 2 2\n",
            "1 0 0\n",
            "1 0 1\n",
            "1 0 2\n",
            "1 1 0\n",
            "break\n",
            "2 0 0\n",
            "2 0 1\n",
            "2 0 2\n",
            "2 1 0\n",
            "2 1 1\n",
            "2 1 2\n",
            "2 2 0\n",
            "2 2 1\n",
            "2 2 2\n"
          ]
        }
      ]
    },
    {
      "cell_type": "code",
      "source": [
        "# for else\n",
        "# 如果for迴圈跑完，就會執行else\n",
        "# 如果for迴圈跑完，就會執行else\n",
        "# 如果for迴圈跑完，就會執行else\n",
        "\n",
        "# nums = [60, 70, 30, 90]\n",
        "nums = [60, 70, 30, 110, 90]\n",
        "for n in nums:\n",
        "    print(n)\n",
        "    if n > 100:\n",
        "        print(\"There is a number bigger than 100\")\n",
        "        break\n",
        "        # continue\n",
        "        # pass\n",
        "else:\n",
        "    print(\"Not found!\")"
      ],
      "metadata": {
        "colab": {
          "base_uri": "https://localhost:8080/"
        },
        "id": "qmnT5UhjJcep",
        "outputId": "661069a7-bf60-41e6-a502-6dd5d1440ebf"
      },
      "execution_count": null,
      "outputs": [
        {
          "output_type": "stream",
          "name": "stdout",
          "text": [
            "60\n",
            "70\n",
            "30\n",
            "110\n",
            "There is a number bigger than 100\n"
          ]
        }
      ]
    },
    {
      "cell_type": "code",
      "source": [
        "# for else\n",
        "# 如果for迴圈跑完，就會執行else\n",
        "\n",
        "for i in range(3):\n",
        "    for j in range(3):\n",
        "        for k in range(3):\n",
        "            if i == j == k == 1:\n",
        "                print('break')\n",
        "                break\n",
        "            print(i, j, k)\n",
        "        else:\n",
        "            continue\n",
        "        break"
      ],
      "metadata": {
        "colab": {
          "base_uri": "https://localhost:8080/"
        },
        "id": "VgKSUMfTJchJ",
        "outputId": "f2b631f0-4012-4b4c-cde6-30f4e84d9dfa"
      },
      "execution_count": null,
      "outputs": [
        {
          "output_type": "stream",
          "name": "stdout",
          "text": [
            "0 0 0\n",
            "0 0 1\n",
            "0 0 2\n",
            "0 1 0\n",
            "0 1 1\n",
            "0 1 2\n",
            "0 2 0\n",
            "0 2 1\n",
            "0 2 2\n",
            "1 0 0\n",
            "1 0 1\n",
            "1 0 2\n",
            "1 1 0\n",
            "break\n",
            "2 0 0\n",
            "2 0 1\n",
            "2 0 2\n",
            "2 1 0\n",
            "2 1 1\n",
            "2 1 2\n",
            "2 2 0\n",
            "2 2 1\n",
            "2 2 2\n"
          ]
        }
      ]
    },
    {
      "cell_type": "code",
      "execution_count": null,
      "metadata": {
        "colab": {
          "base_uri": "https://localhost:8080/"
        },
        "id": "8iH9G8ybHz5y",
        "outputId": "1740e250-6fc4-4066-ce9e-efaefbd4fff5"
      },
      "outputs": [
        {
          "output_type": "stream",
          "name": "stdout",
          "text": [
            "0 0 0\n",
            "0 0 1\n",
            "0 0 2\n",
            "0 1 0\n",
            "0 1 1\n",
            "0 1 2\n",
            "0 2 0\n",
            "0 2 1\n",
            "0 2 2\n",
            "1 0 0\n",
            "1 0 1\n",
            "1 0 2\n",
            "1 1 0\n",
            "break\n",
            "2 0 0\n",
            "2 0 1\n",
            "2 0 2\n",
            "2 1 0\n",
            "2 1 1\n",
            "2 1 2\n",
            "2 2 0\n",
            "2 2 1\n",
            "2 2 2\n"
          ]
        }
      ],
      "source": [
        "# 寫成function\n",
        "\n",
        "def loop(i):\n",
        "    for j in range(3):\n",
        "        for k in range(3):\n",
        "            if i == j == k == 1:\n",
        "                print('break')\n",
        "                return\n",
        "            print(i, j, k)\n",
        "for i in range(3):\n",
        "    loop(i)"
      ]
    },
    {
      "cell_type": "markdown",
      "source": [
        "# Recap\n",
        "* for迴圈-進度條\n",
        "  * tqdm\n",
        "  * trange\n",
        "  * 手寫進度條\n",
        "* 同時多個變數的for迴圈\n",
        "  * enumerate (idx, value)\n",
        "  * zip (多個list)\n",
        "* 跳出巢狀迴圈\n",
        "  * flag\n",
        "  * for else (如果for迴圈跑完，就會執行else)\n",
        "  * function (return)"
      ],
      "metadata": {
        "id": "PdC6Pz8xL1-K"
      }
    },
    {
      "cell_type": "code",
      "source": [],
      "metadata": {
        "id": "Wsbw980qMLVX"
      },
      "execution_count": null,
      "outputs": []
    }
  ]
}